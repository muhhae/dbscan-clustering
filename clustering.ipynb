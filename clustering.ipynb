{
 "cells": [
  {
   "cell_type": "markdown",
   "metadata": {},
   "source": [
    "## DBSCAN Clustering\n",
    "\n",
    "Muhammad Haekal Muhyidin Al-Araby - 5024221030\n",
    "\n",
    "Algoritma clustering DBSCAN menggunakan kepadatan data untuk menentukan cluster sehingga dapat berbentuk sembarang\n",
    "\n",
    "Pada code dibawah kita mencari cluster dari lokasi AirBnb dengan mengambil 10000 sample data latitude dan longitude \n",
    "\n",
    "datasets : https://www.kaggle.com/datasets/paramvir705/airbnb-data?resource=download\n",
    "\n",
    "Kita menggunakan 0.5 sebagai epsilon dan 4 sebagai minimal tetangga atau points. Didapat terdapat 6 cluster pada data."
   ]
  },
  {
   "cell_type": "code",
   "execution_count": 1,
   "metadata": {},
   "outputs": [
    {
     "data": {
      "image/png": "[encoded data removed]",
      "text/plain": [
       "<Figure size 640x480 with 1 Axes>"
      ]
     },
     "metadata": {},
     "output_type": "display_data"
    }
   ],
   "source": [
    "import numpy as np\n",
    "from sklearn.cluster import DBSCAN\n",
    "import matplotlib.pyplot as plt\n",
    "import pandas as pd\n",
    "\n",
    "\n",
    "def lib_clustering():\n",
    "    data = pd.read_csv('Airbnb_Data.csv', nrows=10000)\n",
    "    X = np.column_stack((data['latitude'], data['longitude']))\n",
    " \n",
    "    dbscan = DBSCAN(eps=0.5, min_samples=4)\n",
    "\n",
    "    # Algoritma Pengelompokan \n",
    "    dbscan.fit(X)\n",
    "    labels = dbscan.labels_\n",
    "\n",
    "    unique_labels = set(labels)\n",
    "    core_samples_mask = np.zeros_like(labels, dtype=bool)\n",
    "    core_samples_mask[dbscan.core_sample_indices_] = True\n",
    "    \n",
    "    colors = [plt.cm.Spectral(each) for each in np.linspace(0, 1, len(unique_labels))]\n",
    "    for k, col in zip(unique_labels, colors):\n",
    "        if k == -1:\n",
    "            col = [0, 0, 0, 1]\n",
    "    \n",
    "        class_member_mask = labels == k\n",
    "    \n",
    "        xy = X[class_member_mask & core_samples_mask]\n",
    "        plt.plot(\n",
    "            xy[:, 0],\n",
    "            xy[:, 1],\n",
    "            \"o\",\n",
    "            markersize=14,\n",
    "        )\n",
    "    \n",
    "        xy = X[class_member_mask & ~core_samples_mask]\n",
    "        plt.plot(\n",
    "            xy[:, 0],\n",
    "            xy[:, 1],\n",
    "            \"o\",\n",
    "            markersize=6,\n",
    "        )\n",
    "    \n",
    "    plt.show()\n",
    "\n",
    "lib_clustering()"
   ]
  },
  {
   "cell_type": "code",
   "execution_count": null,
   "metadata": {},
   "outputs": [],
   "source": []
  }
 ],
 "metadata": {
  "kernelspec": {
   "display_name": "Python 3",
   "language": "python",
   "name": "python3"
  },
  "language_info": {
   "codemirror_mode": {
    "name": "ipython",
    "version": 3
   },
   "file_extension": ".py",
   "mimetype": "text/x-python",
   "name": "python",
   "nbconvert_exporter": "python",
   "pygments_lexer": "ipython3",
   "version": "3.11.8"
  }
 },
 "nbformat": 4,
 "nbformat_minor": 2
}
