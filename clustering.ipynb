{
 "cells": [
  {
   "cell_type": "markdown",
   "metadata": {},
   "source": [
    "## DBSCAN Clustering\n",
    "\n",
    "Muhammad Haekal Muhyidin Al-Araby - 5024221030\n",
    "\n",
    "Algoritma clustering DBSCAN menggunakan kepadatan data untuk menentukan cluster sehingga dapat berbentuk sembarang\n",
    "\n",
    "Pada code dibawah kita mencari cluster dari lokasi AirBnb dengan mengambil 10000 sample data latitude dan longitude \n",
    "\n",
    "datasets : https://www.kaggle.com/datasets/paramvir705/airbnb-data?resource=download\n",
    "\n",
    "Kita menggunakan 0.5 sebagai epsilon dan 4 sebagai minimal tetangga atau points. Didapat terdapat 6 cluster pada data."
   ]
  },
  {
   "cell_type": "code",
   "execution_count": 39,
   "metadata": {},
   "outputs": [
    {
     "name": "stdout",
     "output_type": "stream",
     "text": [
      "Number of clusters: 5\n",
      "Number of noise points: 3\n"
     ]
    },
    {
     "data": {
      "image/png": "[encoded data removed]",
      "text/plain": [
       "<Figure size 640x480 with 1 Axes>"
      ]
     },
     "metadata": {},
     "output_type": "display_data"
    }
   ],
   "source": [
    "import numpy as np\n",
    "from sklearn.cluster import DBSCAN\n",
    "import matplotlib.pyplot as plt\n",
    "import pandas as pd\n",
    "\n",
    "data = pd.read_csv('Airbnb_Data.csv', nrows=100)\n",
    "X = np.column_stack((data['latitude'], data['longitude']))\n",
    "\n",
    "def lib_clustering(X=X):\n",
    "    dbscan = DBSCAN(eps=0.5, min_samples=4)\n",
    "\n",
    "    # Algoritma Pengelompokan \n",
    "    dbscan.fit(X)\n",
    "    labels = dbscan.labels_\n",
    "    n_clusters_ = len(set(labels)) - (1 if -1 in labels else 0)\n",
    "    n_noise_ = list(labels).count(-1)\n",
    "\n",
    "    unique_labels = set(labels)\n",
    "    core_samples_mask = np.zeros_like(labels, dtype=bool)\n",
    "    core_samples_mask[dbscan.core_sample_indices_] = True\n",
    "    \n",
    "    colors = [plt.cm.Spectral(each) for each in np.linspace(0, 1, len(unique_labels))]\n",
    "    for k, col in zip(unique_labels, colors):\n",
    "        if k == -1:\n",
    "            col = [0, 0, 0, 1]\n",
    "    \n",
    "        class_member_mask = labels == k\n",
    "    \n",
    "        xy = X[class_member_mask & core_samples_mask]\n",
    "        plt.plot(\n",
    "            xy[:, 0],\n",
    "            xy[:, 1],\n",
    "            \"o\",\n",
    "            markersize=14,\n",
    "        )\n",
    "    \n",
    "        xy = X[class_member_mask & ~core_samples_mask]\n",
    "        plt.plot(\n",
    "            xy[:, 0],\n",
    "            xy[:, 1],\n",
    "            \"o\",\n",
    "            markersize=6,\n",
    "        )\n",
    "    print(\"Number of clusters: %d\" % n_clusters_)\n",
    "    print(\"Number of noise points: %d\" % n_noise_)\n",
    "    plt.show()\n",
    "\n",
    "lib_clustering(X)"
   ]
  },
  {
   "cell_type": "code",
   "execution_count": 40,
   "metadata": {},
   "outputs": [
    {
     "name": "stdout",
     "output_type": "stream",
     "text": [
      "Jumlah Cluster :  75\n"
     ]
    }
   ],
   "source": [
    "class point:\n",
    "    def __init__(self, value) -> None:\n",
    "        self.value = value\n",
    "        self.neighbour = []\n",
    "\n",
    "def dbscan(data, eps, minPts):\n",
    "    core = []\n",
    "    non_core = []\n",
    "    clusters = []\n",
    "\n",
    "    for i in range(len(data)):\n",
    "        tmp = point(data[i])\n",
    "        for j in range(len(data)):\n",
    "            if np.linalg.norm(data[i] - data[j]) < eps:\n",
    "                tmp.neighbour.append(point(data[j]))\n",
    "        if len(tmp.neighbour) >= minPts:\n",
    "            core.append(tmp)\n",
    "        else:\n",
    "            non_core.append(tmp)\n",
    "    \n",
    "    while core:\n",
    "        queue = [core[0]]\n",
    "        cluster = []\n",
    "\n",
    "        while queue:\n",
    "            p = queue.pop()\n",
    "            if p in core:\n",
    "                core.remove(p)\n",
    "            if p not in cluster:\n",
    "                cluster.append(p)\n",
    "                queue += [n for n in p.neighbour if n not in cluster]\n",
    "\n",
    "        clusters.append(cluster)\n",
    "            \n",
    "    print(\"Jumlah Cluster : \", len(clusters))\n",
    "\n",
    "dbscan(X, 0.5, 10)"
   ]
  }
 ],
 "metadata": {
  "kernelspec": {
   "display_name": "Python 3",
   "language": "python",
   "name": "python3"
  },
  "language_info": {
   "codemirror_mode": {
    "name": "ipython",
    "version": 3
   },
   "file_extension": ".py",
   "mimetype": "text/x-python",
   "name": "python",
   "nbconvert_exporter": "python",
   "pygments_lexer": "ipython3",
   "version": "3.12.3"
  }
 },
 "nbformat": 4,
 "nbformat_minor": 2
}
